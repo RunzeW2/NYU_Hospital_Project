{
 "cells": [
  {
   "cell_type": "code",
   "execution_count": 1,
   "id": "96521c4a",
   "metadata": {},
   "outputs": [],
   "source": [
    "import numpy as np\n",
    "import pandas as pd\n",
    "import pyreadstat"
   ]
  },
  {
   "cell_type": "code",
   "execution_count": 2,
   "id": "f4f05a04",
   "metadata": {},
   "outputs": [],
   "source": [
    "# Import the PTR datasets from 2021 to 2023\n",
    "df2021, meta2021 = pyreadstat.read_sas7bdat('D:\\\\NYU_Hospital\\\\ptr_hr_20210101_20211231_pub.sas7bdat')\n",
    "df2022, meta2022 = pyreadstat.read_sas7bdat('D:\\\\NYU_Hospital\\\\ptr_hr_20220101_20221231_pub.sas7bdat')\n",
    "df2023, meta2023 = pyreadstat.read_sas7bdat('D:\\\\NYU_Hospital\\\\ptr_hr_20230101_20231231_pub.sas7bdat')"
   ]
  },
  {
   "cell_type": "code",
   "execution_count": 3,
   "id": "a8671d3d",
   "metadata": {},
   "outputs": [],
   "source": [
    "## concate all the datasets to form a PTR dataframe, called PTR\n",
    "PTR = pd.concat([df2021, df2022, df2023], axis=0)"
   ]
  },
  {
   "cell_type": "code",
   "execution_count": 4,
   "id": "ad90f670",
   "metadata": {},
   "outputs": [],
   "source": [
    "## delete the empty columns with NaNs\n",
    "PTR = PTR[PTR['MATCH_ORG'] == 'HR']\n",
    "all_na_columns = PTR.columns[PTR.isna().all()]\n",
    "PTR = PTR.drop(columns=all_na_columns)"
   ]
  },
  {
   "cell_type": "code",
   "execution_count": 5,
   "id": "76864132",
   "metadata": {},
   "outputs": [
    {
     "name": "stdout",
     "output_type": "stream",
     "text": [
      "     957549\n",
      "N    534024\n",
      "Z     94191\n",
      "B     14969\n",
      "Y      3521\n",
      "Name: PTR_OFFER_ACPT, dtype: int64\n"
     ]
    }
   ],
   "source": [
    "## pick out our response variable, that is the PTR_OFFER_ACPT, which shows a heart is accepted or not.\n",
    "unique_values_count = PTR['PTR_OFFER_ACPT'].value_counts()\n",
    "print(unique_values_count)"
   ]
  },
  {
   "cell_type": "code",
   "execution_count": 6,
   "id": "786d1717",
   "metadata": {},
   "outputs": [],
   "source": [
    "# Select the required columns\n",
    "columns_needed = ['MATCH_ID', 'MATCH_ORG', 'DONOR_ID', 'PTR_SEQUENCE_NUM', 'PX_ID', \n",
    "                  'PTR_TOT_SCORE', 'PTR_STAT_CD', 'PTR_OFFER_ID', \n",
    "                  'PTR_OFFER_ACPT', 'PTR_PRIME_OPO_REFUSAL_ID', 'PTR_SECOND_OPO_REFUSAL_ID', \n",
    "                  'PTR_DISTANCE', 'PTR_OLD_STAT1_TM_SEC']\n",
    "df_filtered = PTR[columns_needed]\n",
    "#df_filtered = df_filtered.dropna()\n",
    "#df_filtered = df_filtered.drop_duplicates(subset=['MATCH_ID'])\n",
    "# Sample 1000 rows ensuring the distribution\n",
    "df_success = df_filtered[df_filtered['PTR_OFFER_ACPT'] == 'Y'].sample(n=400)\n",
    "df_fail = df_filtered[df_filtered['PTR_OFFER_ACPT'] == 'N'].sample(n=400)\n",
    "df_provisional_yes = df_filtered[df_filtered['PTR_OFFER_ACPT'] == 'Z'].sample(n=100)\n",
    "df_bypass = df_filtered[df_filtered['PTR_OFFER_ACPT'] == 'B'].sample(n=100)"
   ]
  },
  {
   "cell_type": "code",
   "execution_count": 7,
   "id": "48cf1c1b",
   "metadata": {},
   "outputs": [],
   "source": [
    "df_sampled = pd.concat([df_success, df_fail, df_provisional_yes, df_bypass])"
   ]
  },
  {
   "cell_type": "code",
   "execution_count": 8,
   "id": "2aa899d3",
   "metadata": {},
   "outputs": [
    {
     "name": "stdout",
     "output_type": "stream",
     "text": [
      "<class 'pandas.core.frame.DataFrame'>\n",
      "Int64Index: 1000 entries, 1276681 to 1229677\n",
      "Data columns (total 13 columns):\n",
      " #   Column                     Non-Null Count  Dtype  \n",
      "---  ------                     --------------  -----  \n",
      " 0   MATCH_ID                   1000 non-null   float64\n",
      " 1   MATCH_ORG                  1000 non-null   object \n",
      " 2   DONOR_ID                   1000 non-null   float64\n",
      " 3   PTR_SEQUENCE_NUM           1000 non-null   float64\n",
      " 4   PX_ID                      1000 non-null   float64\n",
      " 5   PTR_TOT_SCORE              1000 non-null   float64\n",
      " 6   PTR_STAT_CD                1000 non-null   float64\n",
      " 7   PTR_OFFER_ID               1000 non-null   float64\n",
      " 8   PTR_OFFER_ACPT             1000 non-null   object \n",
      " 9   PTR_PRIME_OPO_REFUSAL_ID   500 non-null    float64\n",
      " 10  PTR_SECOND_OPO_REFUSAL_ID  81 non-null     float64\n",
      " 11  PTR_DISTANCE               1000 non-null   float64\n",
      " 12  PTR_OLD_STAT1_TM_SEC       1000 non-null   float64\n",
      "dtypes: float64(11), object(2)\n",
      "memory usage: 109.4+ KB\n"
     ]
    }
   ],
   "source": [
    "df_sampled.info()"
   ]
  },
  {
   "cell_type": "code",
   "execution_count": 9,
   "id": "6f9e2888",
   "metadata": {},
   "outputs": [],
   "source": [
    "import pyreadstat\n",
    "\n",
    "# read datasets\n",
    "\n",
    "df_tx_HR, meta_tx_HR = pyreadstat.read_sas7bdat('D:\\\\NYU_Hospital\\\\TX_HR.sas7bdat')\n",
    "df_immuno, meta_immuno = pyreadstat.read_sas7bdat('D:\\\\NYU_Hospital\\\\IMMUNO.sas7bdat')\n",
    "df_rec, meta_rec = pyreadstat.read_sas7bdat('D:\\\\NYU_Hospital\\\\REC_HISTO.sas7bdat')\n",
    "df_rec_x, meta_rec_x = pyreadstat.read_sas7bdat('D:\\\\NYU_Hospital\\\\REC_HISTO_XMAT.sas7bdat')\n",
    "df_deceased, meta_deceased = pyreadstat.read_sas7bdat('D:\\\\NYU_Hospital\\\\donor_deceased.sas7bdat')\n",
    "df_disposition, meta_disposition = pyreadstat.read_sas7bdat('D:\\\\NYU_Hospital\\\\donor_disposition.sas7bdat')\n",
    "df_cand, meta_cand = pyreadstat.read_sas7bdat('D:\\\\NYU_Hospital\\\\cand_thor.sas7bdat')\n",
    "df_hist, meta_hist = pyreadstat.read_sas7bdat('D:\\\\NYU_Hospital\\\\stathist_thor.sas7bdat')\n",
    "df_statjusta, meta_statjusta = pyreadstat.read_sas7bdat('D:\\\\NYU_Hospital\\\\statjust_hr1a.sas7bdat')\n",
    "df_statjustb, meta_statjustb = pyreadstat.read_sas7bdat('D:\\\\NYU_Hospital\\\\statjust_hr1b.sas7bdat')\n",
    "df_txf_HR, meta_txf_HR = pyreadstat.read_sas7bdat('D:\\\\NYU_Hospital\\\\txf_hr.sas7bdat')\n",
    "#df_malig, meta_malig = pyreadstat.read_sas7bdat('D:\\\\NYU_Hospital\\\\malig.sas7bdat')\n",
    "#df_treat, meta_treat = pyreadstat.read_sas7bdat('D:\\\\NYU_Hospital\\\\treatment.sas7bdat')\n",
    "\n",
    "\n",
    "# filter columns in different datasets\n",
    "columns_to_include = {\n",
    "    'df_tx_HR': [\n",
    "        'CAN_ABO', 'CAN_AGE_AT_LISTING', 'CAN_AGE_IN_MONTHS_AT_LISTING', 'CAN_CARDIAC_OUTPUT', 'CAN_CITIZENSHIP', 'CAN_DGN', \n",
    "        'CAN_EDUCATION', 'CAN_ETHNICITY_SRTR', 'CAN_GENDER', 'CAN_HGT_CM', 'CAN_INIT_ACT_STAT_CD', 'CAN_INIT_STAT', \n",
    "        'CAN_LAST_STAT', 'CAN_LISTING_DT', 'CAN_WGT_KG', 'DON_AGE', 'DON_AGE_IN_MONTHS', 'DON_ANTI_HCV', 'DON_CAD_DON_COD', \n",
    "        'DON_CARDIAC_ARREST_AFTER_DEATH', 'DON_CITIZENSHIP', 'DON_CONT_CIGARETTE', 'DON_CONT_COCAINE', 'DON_CONT_IV_DRUG', \n",
    "        'DON_CREAT', 'DON_DOBUTAMINE', 'DON_DOPAMINE', 'DON_ETHNICITY_SRTR', 'DON_GENDER', 'DON_HGT_CM', 'DON_HIST_CANCER', \n",
    "        'DON_HIST_COCAINE', 'DON_HIST_DIAB', 'DON_HIST_HYPERTEN', 'DON_HIST_IV_DRUG', 'DON_HIST_OTHER_DRUG', 'DON_INOTROP_AGENT_GE3', \n",
    "        'DON_INOTROP_SUPPORT', 'DON_NON_HR_BEAT', 'DON_RACE_SRTR', 'DON_RECOV_DT', 'DON_WARM_ISCH_TM_MINS', 'DON_WGT_KG', 'DONOR_ID', \n",
    "        'REC_CARDIAC_OUTPUT', 'REC_CREAT', 'PX_ID', 'TRR_ID', 'TX_ID', 'REC_HISTO_TX_ID'\n",
    "    ],\n",
    "    'df_cand': [\n",
    "        'CAN_ABO', 'CAN_ACPT_ABO_INCOMP', 'CAN_AGE_AT_LISTING', 'CAN_AGE_IN_MONTHS_AT_LISTING', 'CAN_CARDIAC_OUTPUT', 'CAN_CITIZENSHIP', \n",
    "        'CAN_DGN', 'CAN_EDUCATION', 'CAN_ETHNICITY_SRTR', 'CAN_GENDER', 'CAN_HGT_CM', 'CAN_INIT_ACT_STAT_CD', 'CAN_INIT_STAT', \n",
    "        'CAN_LAST_STAT', 'CAN_LISTING_CTR_CD', 'CAN_LISTING_DT', 'CAN_PCW_MEAN', 'CAN_PERM_STATE', 'CAN_PRIMARY_PAY', 'CAN_SECONDARY_PAY', \n",
    "        'CAN_WGT_KG', 'DONOR_ID', 'PX_ID'\n",
    "    ],\n",
    "    'df_hist': [\n",
    "        'CAN_INIT_ACT_STAT_CD', 'CAN_INIT_STAT', 'CAN_LAST_STAT', 'CAN_LISTING_DT', 'PX_ID'\n",
    "    ],\n",
    "    'df_statjustb': [\n",
    "        'CAN_LISTING_CTR_CD', 'PX_ID'\n",
    "    ],\n",
    "    'df_statjusta': [\n",
    "        'CAN_LISTING_CTR_CD', 'CANHX_INTRP_NOREPINE', 'PX_ID'\n",
    "    ],\n",
    "    'df_deceased': [\n",
    "        'DON_ABNORM_LVH', 'DON_ABNORM_VALVES', 'DON_AGE', 'DON_AGE_IN_MONTHS', 'DON_ANTI_HBC', 'DON_ANTI_HCV', 'DON_ANTI_HIV', 'DON_ANTI_HTLV', \n",
    "        'DON_BUN', 'DON_CAD_DON_COD', 'DON_CANCER_OTHER_OSTXT', 'DON_CARDIAC_ARREST_AFTER_DEATH', 'DON_CHEST_XRAY', 'DON_CITIZENSHIP', 'DON_CLAMP_DT', \n",
    "        'DON_CLAMP_TM', 'DON_CLAMP_TM_ZONE', 'DON_CO_FINAL', 'DON_CO_INIT', 'DON_COD_DON_STROKE', 'DON_CONT_ALCOHOL', 'DON_CONT_CIGARETTE', \n",
    "        'DON_CONT_COCAINE', 'DON_CONT_IV_DRUG', 'DON_CORONARY_ANGIO', 'DON_DOBUTAMINE', 'DON_DOPAMINE', 'DON_EJECT_FRACT', 'DON_EJECT_FRACT_METH', \n",
    "        'DON_ETHNICITY_SRTR', 'DON_FEEDBACK_DONE', 'DON_GENDER', 'DON_HBV_NAT', 'DON_HBV_SURF_ANTIGEN', 'DON_HCV_NAT', 'DON_HCV_STAT', 'DON_HGT_CM', \n",
    "        'DON_HIST_CANCER', 'DON_HIST_PREV_MI', 'DON_HOME_STATE', 'DON_INFECT_BLOOD', 'DON_INFECT_BLOOD_CONFIRM', 'DON_INFECT_LU', 'DON_INFECT_LU_CONFIRM', \n",
    "        'DON_INFECT_OTHER', 'DON_INFECT_OTHER_CONFIRM', 'DON_INFECT_URINE', 'DON_INFECT_URINE_CONFIRM', 'DON_LEGALLY_BRAIN_DEAD', 'DON_MEET_CDC_HIGH_RISK', \n",
    "        'DON_NON_HR_BEAT', 'DON_RECOV_DT', 'DON_TROPONIN_I', 'DON_TROPONIN_T', 'DON_WALL_ABNORM_SEG', 'DON_WARM_ISCH_TM_MINS', 'DON_WGT_KG', 'DONOR_ID'\n",
    "    ],\n",
    "    'df_disposition': [\n",
    "        'DON_RECOV_DT', 'DONOR_ID', 'PX_ID'\n",
    "    ],\n",
    "    'df_rec': [\n",
    "        'REC_HLA_INTERPRET_I', 'REC_HLA_TYP_DONE', 'REC_HISTO_TX_ID'\n",
    "    ],\n",
    "    'df_rec_x': [\n",
    "        'REC_HISTO_TX_ID'\n",
    "    ],\n",
    "    'df_immuno': [\n",
    "        'TRR_ID'\n",
    "    ],\n",
    "    'df_txf_HR': [\n",
    "        'PX_ID', 'TRR_ID', 'TX_ID'\n",
    "    ]\n",
    "}"
   ]
  },
  {
   "cell_type": "code",
   "execution_count": 10,
   "id": "657f59df",
   "metadata": {},
   "outputs": [],
   "source": [
    "df_tx_HR = df_tx_HR[columns_to_include['df_tx_HR']]\n",
    "df_immuno = df_immuno[columns_to_include['df_immuno']]\n",
    "df_rec = df_rec[columns_to_include['df_rec']]\n",
    "df_rec_x = df_rec_x[columns_to_include['df_rec_x']]\n",
    "df_deceased = df_deceased[columns_to_include['df_deceased']]\n",
    "df_disposition = df_disposition[columns_to_include['df_disposition']]\n",
    "df_cand = df_cand[columns_to_include['df_cand']]\n",
    "df_hist = df_hist[columns_to_include['df_hist']]\n",
    "df_statjusta = df_statjusta[columns_to_include['df_statjusta']]\n",
    "df_statjustb = df_statjustb[columns_to_include['df_statjustb']]\n",
    "df_txf_HR = df_txf_HR[columns_to_include['df_txf_HR']]"
   ]
  },
  {
   "cell_type": "code",
   "execution_count": 11,
   "id": "a1843542",
   "metadata": {},
   "outputs": [
    {
     "name": "stdout",
     "output_type": "stream",
     "text": [
      "PTR_OFFER_ACPT distribution in merged data:\n",
      "Y    400\n",
      "N    400\n",
      "Z    100\n",
      "B    100\n",
      "Name: PTR_OFFER_ACPT, dtype: int64\n",
      "MATCH_ORG values in merged data:\n",
      "['HR']\n",
      "Are donor_id values unique? False\n",
      "Are px_id values unique? False\n",
      "    MATCH_ID MATCH_ORG  DONOR_ID  PTR_SEQUENCE_NUM      PX_ID  PTR_TOT_SCORE  \\\n",
      "0  1538093.0        HR  675697.0              74.0  1562702.0            0.0   \n",
      "1  1485606.0        HR  658993.0               3.0  1517717.0            0.0   \n",
      "2  1389358.0        HR  628307.0               1.0  1441565.0            0.0   \n",
      "3  1316233.0        HR  604243.0              21.0  1387734.0            0.0   \n",
      "4  1452018.0        HR  648246.0               4.0  1498557.0            0.0   \n",
      "\n",
      "   PTR_STAT_CD  PTR_OFFER_ID PTR_OFFER_ACPT  PTR_PRIME_OPO_REFUSAL_ID  ...  \\\n",
      "0       2130.0         324.0              Y                       NaN  ...   \n",
      "1       2120.0           1.0              Y                       NaN  ...   \n",
      "2       2120.0          31.0              Y                       NaN  ...   \n",
      "3       2120.0          71.0              Y                       NaN  ...   \n",
      "4       2110.0          80.0              Y                       NaN  ...   \n",
      "\n",
      "   DON_NON_HR_BEAT  DON_RACE_SRTR  DON_RECOV_DT DON_WARM_ISCH_TM_MINS  \\\n",
      "0                N          WHITE    2023-09-23                   NaN   \n",
      "1                N          BLACK    2023-03-08                   NaN   \n",
      "2                N          WHITE    2022-02-11                   NaN   \n",
      "3                N          WHITE    2021-03-20                   0.0   \n",
      "4                N          MULTI    2022-10-29                   0.0   \n",
      "\n",
      "   DON_WGT_KG  REC_CARDIAC_OUTPUT  REC_CREAT     TRR_ID      TX_ID  \\\n",
      "0        81.2                4.13       1.30  1023359.0  1996757.0   \n",
      "1        66.0                4.50       1.31   989398.0  1963618.0   \n",
      "2        79.5                3.20       1.17   932260.0  1907949.0   \n",
      "3        75.3                3.32       1.15   895083.0  1871915.0   \n",
      "4       139.0                 NaN       0.89   969326.0  1944019.0   \n",
      "\n",
      "   REC_HISTO_TX_ID  \n",
      "0        1996757.0  \n",
      "1        1963618.0  \n",
      "2        1907949.0  \n",
      "3        1871915.0  \n",
      "4        1944019.0  \n",
      "\n",
      "[5 rows x 61 columns]\n"
     ]
    }
   ],
   "source": [
    "df_tx_HR_filtered = df_tx_HR[(df_tx_HR['DONOR_ID'].isin(df_sampled['DONOR_ID'])) & \n",
    "                             (df_tx_HR['PX_ID'].isin(df_sampled['PX_ID']))]\n",
    "\n",
    "df_merged = df_sampled.merge(df_tx_HR_filtered, on=['DONOR_ID', 'PX_ID'], how='left')\n",
    "\n",
    "offer_acpt_distribution = df_merged['PTR_OFFER_ACPT'].value_counts()\n",
    "print(\"PTR_OFFER_ACPT distribution in merged data:\")\n",
    "print(offer_acpt_distribution)\n",
    "\n",
    "# Check that MATCH_ORG is \"HR\"\n",
    "match_org_check = df_merged['MATCH_ORG'].unique()\n",
    "print(\"MATCH_ORG values in merged data:\")\n",
    "print(match_org_check)\n",
    "\n",
    "# Check for unique donor_id and px_id\n",
    "unique_donor_ids = df_merged['DONOR_ID'].is_unique\n",
    "unique_px_ids = df_merged['PX_ID'].is_unique\n",
    "print(\"Are donor_id values unique?\", unique_donor_ids)\n",
    "print(\"Are px_id values unique?\", unique_px_ids)\n",
    "\n",
    "# Output the merged result to a CSV file\n",
    "df_merged.to_csv('merged_result.csv', index=False)\n",
    "\n",
    "# Optional: Display the first few rows of the merged dataframe to verify\n",
    "print(df_merged.head())"
   ]
  },
  {
   "cell_type": "code",
   "execution_count": null,
   "id": "08f05e8b",
   "metadata": {},
   "outputs": [],
   "source": []
  },
  {
   "cell_type": "code",
   "execution_count": null,
   "id": "d22b1594",
   "metadata": {},
   "outputs": [],
   "source": []
  }
 ],
 "metadata": {
  "kernelspec": {
   "display_name": "Python 3 (ipykernel)",
   "language": "python",
   "name": "python3"
  },
  "language_info": {
   "codemirror_mode": {
    "name": "ipython",
    "version": 3
   },
   "file_extension": ".py",
   "mimetype": "text/x-python",
   "name": "python",
   "nbconvert_exporter": "python",
   "pygments_lexer": "ipython3",
   "version": "3.11.4"
  }
 },
 "nbformat": 4,
 "nbformat_minor": 5
}
